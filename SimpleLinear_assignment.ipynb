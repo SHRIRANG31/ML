{
  "nbformat": 4,
  "nbformat_minor": 0,
  "metadata": {
    "colab": {
      "name": "SimpleLinear_assignment.ipynb",
      "provenance": [],
      "authorship_tag": "ABX9TyPRHgOAzWN1KhDGZ2DHZBE2",
      "include_colab_link": true
    },
    "kernelspec": {
      "name": "python3",
      "display_name": "Python 3"
    }
  },
  "cells": [
    {
      "cell_type": "markdown",
      "metadata": {
        "id": "view-in-github",
        "colab_type": "text"
      },
      "source": [
        "<a href=\"https://colab.research.google.com/github/abhinav260/ML/blob/LinearRegression/SimpleLinear_assignment.ipynb\" target=\"_parent\"><img src=\"https://colab.research.google.com/assets/colab-badge.svg\" alt=\"Open In Colab\"/></a>"
      ]
    },
    {
      "cell_type": "code",
      "metadata": {
        "id": "TaNBM1EEEaYk",
        "colab_type": "code",
        "colab": {}
      },
      "source": [
        "import pandas as pd\n",
        "import matplotlib.pyplot as plt"
      ],
      "execution_count": 0,
      "outputs": []
    },
    {
      "cell_type": "code",
      "metadata": {
        "id": "7VW0S7VwFTLa",
        "colab_type": "code",
        "colab": {}
      },
      "source": [
        "x_train = pd.read_csv('Linear_X_Train.csv')\n",
        "x_test = pd.read_csv('Linear_X_Test.csv')\n",
        "y_train = pd.read_csv('Linear_Y_Train.csv')"
      ],
      "execution_count": 0,
      "outputs": []
    },
    {
      "cell_type": "code",
      "metadata": {
        "id": "DTe-qiT9Fo71",
        "colab_type": "code",
        "outputId": "1915e85f-7e60-4319-a56e-30c7b2c92acc",
        "colab": {
          "base_uri": "https://localhost:8080/",
          "height": 34
        }
      },
      "source": [
        "from sklearn.linear_model import LinearRegression\n",
        "regressor = LinearRegression()\n",
        "regressor.fit(x_train,y_train)"
      ],
      "execution_count": 3,
      "outputs": [
        {
          "output_type": "execute_result",
          "data": {
            "text/plain": [
              "LinearRegression(copy_X=True, fit_intercept=True, n_jobs=None, normalize=False)"
            ]
          },
          "metadata": {
            "tags": []
          },
          "execution_count": 3
        }
      ]
    },
    {
      "cell_type": "code",
      "metadata": {
        "id": "IKSNLvCeeGN3",
        "colab_type": "code",
        "colab": {
          "base_uri": "https://localhost:8080/",
          "height": 279
        },
        "outputId": "5218788b-56c6-407f-d924-096f70ac107f"
      },
      "source": [
        "y_pred = regressor.predict(x_test)\n",
        "plt.scatter(x_test,y_pred)\n",
        "plt.xlabel('Time spent')\n",
        "plt.ylabel('Score')\n",
        "plt.show()"
      ],
      "execution_count": 5,
      "outputs": [
        {
          "output_type": "display_data",
          "data": {
            "image/png": "[encoded data removed]",
            "text/plain": [
              "<Figure size 432x288 with 1 Axes>"
            ]
          },
          "metadata": {
            "tags": [],
            "needs_background": "light"
          }
        }
      ]
    },
    {
      "cell_type": "code",
      "metadata": {
        "id": "oB6vWbEFGHgX",
        "colab_type": "code",
        "outputId": "37504403-27d7-4534-fa30-06ef176b000c",
        "colab": {
          "base_uri": "https://localhost:8080/",
          "height": 50
        }
      },
      "source": [
        "f = int(input('Enter time:'))\n",
        "print(regressor.predict([[f]]))"
      ],
      "execution_count": 6,
      "outputs": [
        {
          "output_type": "stream",
          "text": [
            "Enter time:3\n",
            "[[245.35888385]]\n"
          ],
          "name": "stdout"
        }
      ]
    }
  ]
}